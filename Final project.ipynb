{
  "metadata": {
    "kernelspec": {
      "name": "python",
      "display_name": "Python (Pyodide)",
      "language": "python"
    },
    "language_info": {
      "codemirror_mode": {
        "name": "python",
        "version": 3
      },
      "file_extension": ".py",
      "mimetype": "text/x-python",
      "name": "python",
      "nbconvert_exporter": "python",
      "pygments_lexer": "ipython3",
      "version": "3.8"
    }
  },
  "nbformat_minor": 5,
  "nbformat": 4,
  "cells": [
    {
      "id": "fa718099-ab1d-4394-981d-fa02d253017a",
      "cell_type": "markdown",
      "source": "# Final project",
      "metadata": {}
    },
    {
      "id": "81c67052-c861-4a3f-84fd-cfde988fee59",
      "cell_type": "markdown",
      "source": "## Introduction\nThis notebook is created as part of the final project for the course. It contains information about Data Science languages, libraries, tools, arithmetic expressions, and some simple code implementations.\n",
      "metadata": {
        "jp-MarkdownHeadingCollapsed": true
      }
    },
    {
      "id": "82e5f41b-0454-4dce-8c34-a9bcf2534708",
      "cell_type": "markdown",
      "source": "## Data Science Languages\nSome popular programming languages for Data Science include:\n- Python\n- R\n- SQL\n- Julia\n- Scala",
      "metadata": {}
    },
    {
      "id": "dcf09062-3dcc-44e8-8fd6-7b827005b0ce",
      "cell_type": "markdown",
      "source": "## Data Science Libraries\nSome commonly used libraries in Data Science are:\n- Pandas\n- NumPy\n- Scikit-learn\n- TensorFlow\n- PyTorch",
      "metadata": {}
    },
    {
      "id": "e8975716-d741-44c8-9013-800930f2d080",
      "cell_type": "markdown",
      "source": "## Data Science Tools\n\n| Tool           | Description                           |\n|---------------|-----------------------------------|\n| Jupyter Notebook | Interactive computing environment  |\n| RStudio        | IDE for R programming              |\n| Apache Spark   | Big data processing framework      |\n| Tableau        | Data visualization tool           |\n| TensorFlow     | Machine learning framework        |\n",
      "metadata": {}
    },
    {
      "id": "0f386682-f369-410d-921a-f76f275ca055",
      "cell_type": "markdown",
      "source": "## Arithmetic Expressions in Python\nBelow are examples of basic arithmetic operations such as addition and multiplication.",
      "metadata": {}
    },
    {
      "id": "e89f2eb6-3575-4dbc-a7d4-2bc918722fc3",
      "cell_type": "code",
      "source": "# This code multiplies and adds numbers\na = 8\nb = 70\nresult_multiplication = a * b\nresult_addition = a + b\n\nprint(\"Multiplication result:\", result_multiplication)\nprint(\"Addition result:\", result_addition)",
      "metadata": {
        "trusted": true
      },
      "outputs": [
        {
          "name": "stdout",
          "output_type": "stream",
          "text": "Multiplication result: 560\nAddition result: 78\n"
        }
      ],
      "execution_count": 9
    },
    {
      "id": "f4541207-cc55-422c-a55a-1c3b15e77167",
      "cell_type": "code",
      "source": "# This code converts minutes to hours\nminutes = 240\nhours = minutes / 60\nprint(f\"{minutes} minutes is equal to {hours} hours\")",
      "metadata": {
        "trusted": true
      },
      "outputs": [
        {
          "name": "stdout",
          "output_type": "stream",
          "text": "240 minutes is equal to 4.0 hours\n"
        }
      ],
      "execution_count": 8
    },
    {
      "id": "a8712c8c-32cc-4fa5-a819-3fc174ca1a49",
      "cell_type": "markdown",
      "source": "## Objectives\n- Learn about different Data Science languages and libraries.\n- Understand various tools used in Data Science.\n- Perform basic arithmetic operations using Python.\n- Convert time units in Python.\n- Share a Jupyter Notebook on GitHub.",
      "metadata": {}
    },
    {
      "id": "ec609dae-21b9-4c00-9793-0c4edb586dec",
      "cell_type": "markdown",
      "source": "## Author\nJavokhirbek",
      "metadata": {}
    },
    {
      "id": "13d961c4-bb9d-43e2-a615-1baa5b2bf3b5",
      "cell_type": "code",
      "source": "",
      "metadata": {
        "trusted": true
      },
      "outputs": [],
      "execution_count": null
    }
  ]
}